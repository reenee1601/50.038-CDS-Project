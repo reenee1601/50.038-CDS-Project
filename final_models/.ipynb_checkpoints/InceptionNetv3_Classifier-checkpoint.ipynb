{
 "cells": [
  {
   "cell_type": "markdown",
   "id": "62b2820b-37c9-41e2-a862-369f4df56f7c",
   "metadata": {
    "id": "62b2820b-37c9-41e2-a862-369f4df56f7c"
   },
   "source": [
    "# InceptionNetv3 Image Classifier"
   ]
  },
  {
   "cell_type": "markdown",
   "id": "-t0zJFfIJSkG",
   "metadata": {
    "id": "-t0zJFfIJSkG"
   },
   "source": [
    "**This notebook should run correctly both in colab and on jupyter.**\n",
    "- Uses stratified sampling (making sure all classes have same ratio in all sets).\n",
    "- Uses metadata from **'data/encoded_columns_data'**.\n",
    "- Uses images from folder **'directly_processed_images'**."
   ]
  },
  {
   "cell_type": "markdown",
   "id": "j37uiA6Oshq0",
   "metadata": {
    "id": "j37uiA6Oshq0"
   },
   "source": [
    "## **Setup**"
   ]
  },
  {
   "cell_type": "code",
   "execution_count": 1,
   "id": "gDLEcekJqKJm",
   "metadata": {
    "colab": {
     "base_uri": "https://localhost:8080/"
    },
    "executionInfo": {
     "elapsed": 13977,
     "status": "ok",
     "timestamp": 1713261725408,
     "user": {
      "displayName": "kp op",
      "userId": "00101497225649972179"
     },
     "user_tz": -480
    },
    "id": "gDLEcekJqKJm",
    "outputId": "a3382b14-2cc1-49d3-c4ce-4974ea39a979"
   },
   "outputs": [
    {
     "name": "stdout",
     "output_type": "stream",
     "text": [
      "Running notebook on google colab\n",
      "Collecting icecream\n",
      "  Downloading icecream-2.1.3-py2.py3-none-any.whl (8.4 kB)\n",
      "Collecting colorama>=0.3.9 (from icecream)\n",
      "  Downloading colorama-0.4.6-py2.py3-none-any.whl (25 kB)\n",
      "Requirement already satisfied: pygments>=2.2.0 in /usr/local/lib/python3.10/dist-packages (from icecream) (2.16.1)\n",
      "Collecting executing>=0.3.1 (from icecream)\n",
      "  Downloading executing-2.0.1-py2.py3-none-any.whl (24 kB)\n",
      "Collecting asttokens>=2.0.1 (from icecream)\n",
      "  Downloading asttokens-2.4.1-py2.py3-none-any.whl (27 kB)\n",
      "Requirement already satisfied: six>=1.12.0 in /usr/local/lib/python3.10/dist-packages (from asttokens>=2.0.1->icecream) (1.16.0)\n",
      "Installing collected packages: executing, colorama, asttokens, icecream\n",
      "Successfully installed asttokens-2.4.1 colorama-0.4.6 executing-2.0.1 icecream-2.1.3\n"
     ]
    }
   ],
   "source": [
    "import sys\n",
    "on_colab = 'google.colab' in sys.modules\n",
    "if on_colab:\n",
    "  print(\"Running notebook on google colab\")\n",
    "  # use ice cream to conveniently print stuff\n",
    "  !pip install icecream\n",
    "else:\n",
    "  print(\"Notebook not running on google colab\")"
   ]
  },
  {
   "cell_type": "code",
   "execution_count": 2,
   "id": "789a21a2-6b2f-43f3-9fe1-6e3cacb6f1b6",
   "metadata": {
    "executionInfo": {
     "elapsed": 16120,
     "status": "ok",
     "timestamp": 1713261749069,
     "user": {
      "displayName": "kp op",
      "userId": "00101497225649972179"
     },
     "user_tz": -480
    },
    "id": "789a21a2-6b2f-43f3-9fe1-6e3cacb6f1b6"
   },
   "outputs": [],
   "source": [
    "# imports\n",
    "from icecream import ic\n",
    "import pandas as pd\n",
    "import numpy as np\n",
    "import torch\n",
    "import time\n",
    "import torch.nn as nn\n",
    "import torch.optim as optim\n",
    "from torchvision import models, datasets, transforms\n",
    "import timeit\n",
    "import torchvision\n",
    "# import torchsummary\n",
    "from torchvision import transforms, datasets\n",
    "from torch.utils.data import Dataset\n",
    "from torch.utils.data import DataLoader\n",
    "# from torchsummary import summary\n",
    "import os\n",
    "import matplotlib.pyplot as plt\n",
    "import matplotlib.image as mpimg\n",
    "import warnings\n",
    "warnings.filterwarnings('ignore')\n",
    "\n",
    "from sklearn.model_selection import train_test_split\n",
    "from PIL import Image\n",
    "\n",
    "import matplotlib.pyplot as plt\n",
    "import seaborn as sns\n",
    "\n",
    "# to save session\n",
    "import pickle\n",
    "\n",
    "from tqdm import tqdm"
   ]
  },
  {
   "cell_type": "code",
   "execution_count": 3,
   "id": "tKHCqZRTp9EX",
   "metadata": {
    "colab": {
     "base_uri": "https://localhost:8080/"
    },
    "executionInfo": {
     "elapsed": 21175,
     "status": "ok",
     "timestamp": 1713261770240,
     "user": {
      "displayName": "kp op",
      "userId": "00101497225649972179"
     },
     "user_tz": -480
    },
    "id": "tKHCqZRTp9EX",
    "outputId": "adcdb85f-eff3-4f9f-ff1c-33dc7bd56580"
   },
   "outputs": [
    {
     "name": "stdout",
     "output_type": "stream",
     "text": [
      "Mounted at /content/drive\n"
     ]
    }
   ],
   "source": [
    "if on_colab:\n",
    "  from google.colab import drive\n",
    "  drive.mount('/content/drive')"
   ]
  },
  {
   "cell_type": "code",
   "execution_count": 4,
   "id": "5faac262-b250-4155-93b8-b06e1b0ff8f5",
   "metadata": {
    "colab": {
     "base_uri": "https://localhost:8080/"
    },
    "executionInfo": {
     "elapsed": 3,
     "status": "ok",
     "timestamp": 1713261770240,
     "user": {
      "displayName": "kp op",
      "userId": "00101497225649972179"
     },
     "user_tz": -480
    },
    "id": "5faac262-b250-4155-93b8-b06e1b0ff8f5",
    "outputId": "9f1ada78-d344-446f-debe-72e0f987ab41"
   },
   "outputs": [
    {
     "name": "stdout",
     "output_type": "stream",
     "text": [
      "PyTorch version:\n",
      "2.2.1+cu121\n",
      "Using cuda device\n"
     ]
    }
   ],
   "source": [
    "print(\"PyTorch version:\")\n",
    "print(torch.__version__)\n",
    "\n",
    "device = torch.device(\"cuda\" if torch.cuda.is_available() else \"cpu\")\n",
    "print(\"Using {} device\".format(device))"
   ]
  },
  {
   "cell_type": "markdown",
   "id": "JnPFr5uzs1b6",
   "metadata": {
    "id": "JnPFr5uzs1b6"
   },
   "source": [
    "## Define paths to image folder & metadata"
   ]
  },
  {
   "cell_type": "code",
   "execution_count": 5,
   "id": "BLVcBUgI3uLo",
   "metadata": {
    "executionInfo": {
     "elapsed": 2,
     "status": "ok",
     "timestamp": 1713261770240,
     "user": {
      "displayName": "kp op",
      "userId": "00101497225649972179"
     },
     "user_tz": -480
    },
    "id": "BLVcBUgI3uLo"
   },
   "outputs": [],
   "source": [
    "# paths\n",
    "if on_colab:\n",
    "  metadata_path = '/content/drive/MyDrive/CDS Project/data/encoded_final_data.csv'\n",
    "  images_path = '/content/drive/MyDrive/CDS Project/directly_processed_images'\n",
    "else:\n",
    "  metadata_path = '../data/encoded_final_data.csv'\n",
    "  images_path = '../directly_processed_images'"
   ]
  },
  {
   "cell_type": "code",
   "execution_count": 6,
   "id": "s0e9yKmfIiY_",
   "metadata": {
    "colab": {
     "base_uri": "https://localhost:8080/",
     "height": 461
    },
    "executionInfo": {
     "elapsed": 2441,
     "status": "ok",
     "timestamp": 1713261772680,
     "user": {
      "displayName": "kp op",
      "userId": "00101497225649972179"
     },
     "user_tz": -480
    },
    "id": "s0e9yKmfIiY_",
    "outputId": "46a9401d-5aa3-48ad-b85d-35455bd4e1f6"
   },
   "outputs": [
    {
     "data": {
      "application/vnd.google.colaboratory.intrinsic+json": {
       "summary": "{\n  \"name\": \"metadata_df\",\n  \"rows\": 1400,\n  \"fields\": [\n    {\n      \"column\": \"image_id\",\n      \"properties\": {\n        \"dtype\": \"string\",\n        \"num_unique_values\": 1086,\n        \"samples\": [\n          \"ISIC_0024313\",\n          \"ISIC_0033310\",\n          \"ISIC_0027216\"\n        ],\n        \"semantic_type\": \"\",\n        \"description\": \"\"\n      }\n    },\n    {\n      \"column\": \"age\",\n      \"properties\": {\n        \"dtype\": \"number\",\n        \"std\": 16.503720930574218,\n        \"min\": 0.0,\n        \"max\": 90.0,\n        \"num_unique_values\": 19,\n        \"samples\": [\n          65.0,\n          5.0,\n          40.0\n        ],\n        \"semantic_type\": \"\",\n        \"description\": \"\"\n      }\n    },\n    {\n      \"column\": \"head/neck\",\n      \"properties\": {\n        \"dtype\": \"number\",\n        \"std\": 0,\n        \"min\": 0,\n        \"max\": 1,\n        \"num_unique_values\": 2,\n        \"samples\": [\n          1,\n          0\n        ],\n        \"semantic_type\": \"\",\n        \"description\": \"\"\n      }\n    },\n    {\n      \"column\": \"lower extremity\",\n      \"properties\": {\n        \"dtype\": \"number\",\n        \"std\": 0,\n        \"min\": 0,\n        \"max\": 1,\n        \"num_unique_values\": 2,\n        \"samples\": [\n          1,\n          0\n        ],\n        \"semantic_type\": \"\",\n        \"description\": \"\"\n      }\n    },\n    {\n      \"column\": \"oral/genital\",\n      \"properties\": {\n        \"dtype\": \"number\",\n        \"std\": 0,\n        \"min\": 0,\n        \"max\": 1,\n        \"num_unique_values\": 2,\n        \"samples\": [\n          1,\n          0\n        ],\n        \"semantic_type\": \"\",\n        \"description\": \"\"\n      }\n    },\n    {\n      \"column\": \"palms/soles\",\n      \"properties\": {\n        \"dtype\": \"number\",\n        \"std\": 0,\n        \"min\": 0,\n        \"max\": 1,\n        \"num_unique_values\": 2,\n        \"samples\": [\n          1,\n          0\n        ],\n        \"semantic_type\": \"\",\n        \"description\": \"\"\n      }\n    },\n    {\n      \"column\": \"torso\",\n      \"properties\": {\n        \"dtype\": \"number\",\n        \"std\": 0,\n        \"min\": 0,\n        \"max\": 1,\n        \"num_unique_values\": 2,\n        \"samples\": [\n          0,\n          1\n        ],\n        \"semantic_type\": \"\",\n        \"description\": \"\"\n      }\n    },\n    {\n      \"column\": \"upper extremity\",\n      \"properties\": {\n        \"dtype\": \"number\",\n        \"std\": 0,\n        \"min\": 0,\n        \"max\": 1,\n        \"num_unique_values\": 2,\n        \"samples\": [\n          1,\n          0\n        ],\n        \"semantic_type\": \"\",\n        \"description\": \"\"\n      }\n    },\n    {\n      \"column\": \"female\",\n      \"properties\": {\n        \"dtype\": \"number\",\n        \"std\": 0,\n        \"min\": 0,\n        \"max\": 1,\n        \"num_unique_values\": 2,\n        \"samples\": [\n          1,\n          0\n        ],\n        \"semantic_type\": \"\",\n        \"description\": \"\"\n      }\n    },\n    {\n      \"column\": \"male\",\n      \"properties\": {\n        \"dtype\": \"number\",\n        \"std\": 0,\n        \"min\": 0,\n        \"max\": 1,\n        \"num_unique_values\": 2,\n        \"samples\": [\n          0,\n          1\n        ],\n        \"semantic_type\": \"\",\n        \"description\": \"\"\n      }\n    },\n    {\n      \"column\": \"target\",\n      \"properties\": {\n        \"dtype\": \"number\",\n        \"std\": 2,\n        \"min\": 0,\n        \"max\": 6,\n        \"num_unique_values\": 7,\n        \"samples\": [\n          0,\n          1\n        ],\n        \"semantic_type\": \"\",\n        \"description\": \"\"\n      }\n    }\n  ]\n}",
       "type": "dataframe",
       "variable_name": "metadata_df"
      },
      "text/html": [
       "\n",
       "  <div id=\"df-09834991-fb75-42dc-b019-42b5ed5e8720\" class=\"colab-df-container\">\n",
       "    <div>\n",
       "<style scoped>\n",
       "    .dataframe tbody tr th:only-of-type {\n",
       "        vertical-align: middle;\n",
       "    }\n",
       "\n",
       "    .dataframe tbody tr th {\n",
       "        vertical-align: top;\n",
       "    }\n",
       "\n",
       "    .dataframe thead th {\n",
       "        text-align: right;\n",
       "    }\n",
       "</style>\n",
       "<table border=\"1\" class=\"dataframe\">\n",
       "  <thead>\n",
       "    <tr style=\"text-align: right;\">\n",
       "      <th></th>\n",
       "      <th>image_id</th>\n",
       "      <th>age</th>\n",
       "      <th>head/neck</th>\n",
       "      <th>lower extremity</th>\n",
       "      <th>oral/genital</th>\n",
       "      <th>palms/soles</th>\n",
       "      <th>torso</th>\n",
       "      <th>upper extremity</th>\n",
       "      <th>female</th>\n",
       "      <th>male</th>\n",
       "      <th>target</th>\n",
       "    </tr>\n",
       "  </thead>\n",
       "  <tbody>\n",
       "    <tr>\n",
       "      <th>0</th>\n",
       "      <td>ISIC_5136612</td>\n",
       "      <td>65.0</td>\n",
       "      <td>0</td>\n",
       "      <td>0</td>\n",
       "      <td>0</td>\n",
       "      <td>0</td>\n",
       "      <td>1</td>\n",
       "      <td>0</td>\n",
       "      <td>0</td>\n",
       "      <td>1</td>\n",
       "      <td>0</td>\n",
       "    </tr>\n",
       "    <tr>\n",
       "      <th>1</th>\n",
       "      <td>ISIC_0031002</td>\n",
       "      <td>65.0</td>\n",
       "      <td>0</td>\n",
       "      <td>0</td>\n",
       "      <td>0</td>\n",
       "      <td>0</td>\n",
       "      <td>0</td>\n",
       "      <td>1</td>\n",
       "      <td>0</td>\n",
       "      <td>1</td>\n",
       "      <td>0</td>\n",
       "    </tr>\n",
       "    <tr>\n",
       "      <th>2</th>\n",
       "      <td>ISIC_0026875</td>\n",
       "      <td>35.0</td>\n",
       "      <td>0</td>\n",
       "      <td>0</td>\n",
       "      <td>0</td>\n",
       "      <td>0</td>\n",
       "      <td>0</td>\n",
       "      <td>1</td>\n",
       "      <td>1</td>\n",
       "      <td>0</td>\n",
       "      <td>1</td>\n",
       "    </tr>\n",
       "    <tr>\n",
       "      <th>3</th>\n",
       "      <td>ISIC_0024371</td>\n",
       "      <td>70.0</td>\n",
       "      <td>0</td>\n",
       "      <td>1</td>\n",
       "      <td>0</td>\n",
       "      <td>0</td>\n",
       "      <td>0</td>\n",
       "      <td>0</td>\n",
       "      <td>0</td>\n",
       "      <td>1</td>\n",
       "      <td>2</td>\n",
       "    </tr>\n",
       "    <tr>\n",
       "      <th>4</th>\n",
       "      <td>ISIC_0027263</td>\n",
       "      <td>85.0</td>\n",
       "      <td>0</td>\n",
       "      <td>0</td>\n",
       "      <td>0</td>\n",
       "      <td>0</td>\n",
       "      <td>1</td>\n",
       "      <td>0</td>\n",
       "      <td>0</td>\n",
       "      <td>1</td>\n",
       "      <td>3</td>\n",
       "    </tr>\n",
       "    <tr>\n",
       "      <th>...</th>\n",
       "      <td>...</td>\n",
       "      <td>...</td>\n",
       "      <td>...</td>\n",
       "      <td>...</td>\n",
       "      <td>...</td>\n",
       "      <td>...</td>\n",
       "      <td>...</td>\n",
       "      <td>...</td>\n",
       "      <td>...</td>\n",
       "      <td>...</td>\n",
       "      <td>...</td>\n",
       "    </tr>\n",
       "    <tr>\n",
       "      <th>1395</th>\n",
       "      <td>ISIC_0027531</td>\n",
       "      <td>65.0</td>\n",
       "      <td>0</td>\n",
       "      <td>1</td>\n",
       "      <td>0</td>\n",
       "      <td>0</td>\n",
       "      <td>0</td>\n",
       "      <td>0</td>\n",
       "      <td>0</td>\n",
       "      <td>1</td>\n",
       "      <td>5</td>\n",
       "    </tr>\n",
       "    <tr>\n",
       "      <th>1396</th>\n",
       "      <td>ISIC_0025691</td>\n",
       "      <td>50.0</td>\n",
       "      <td>0</td>\n",
       "      <td>0</td>\n",
       "      <td>0</td>\n",
       "      <td>0</td>\n",
       "      <td>1</td>\n",
       "      <td>0</td>\n",
       "      <td>1</td>\n",
       "      <td>0</td>\n",
       "      <td>5</td>\n",
       "    </tr>\n",
       "    <tr>\n",
       "      <th>1397</th>\n",
       "      <td>ISIC_0028381</td>\n",
       "      <td>55.0</td>\n",
       "      <td>1</td>\n",
       "      <td>0</td>\n",
       "      <td>0</td>\n",
       "      <td>0</td>\n",
       "      <td>0</td>\n",
       "      <td>0</td>\n",
       "      <td>1</td>\n",
       "      <td>0</td>\n",
       "      <td>6</td>\n",
       "    </tr>\n",
       "    <tr>\n",
       "      <th>1398</th>\n",
       "      <td>ISIC_0033254</td>\n",
       "      <td>15.0</td>\n",
       "      <td>0</td>\n",
       "      <td>0</td>\n",
       "      <td>0</td>\n",
       "      <td>0</td>\n",
       "      <td>1</td>\n",
       "      <td>0</td>\n",
       "      <td>0</td>\n",
       "      <td>1</td>\n",
       "      <td>4</td>\n",
       "    </tr>\n",
       "    <tr>\n",
       "      <th>1399</th>\n",
       "      <td>ISIC_0026213</td>\n",
       "      <td>70.0</td>\n",
       "      <td>0</td>\n",
       "      <td>0</td>\n",
       "      <td>0</td>\n",
       "      <td>0</td>\n",
       "      <td>1</td>\n",
       "      <td>0</td>\n",
       "      <td>0</td>\n",
       "      <td>1</td>\n",
       "      <td>5</td>\n",
       "    </tr>\n",
       "  </tbody>\n",
       "</table>\n",
       "<p>1400 rows × 11 columns</p>\n",
       "</div>\n",
       "    <div class=\"colab-df-buttons\">\n",
       "\n",
       "  <div class=\"colab-df-container\">\n",
       "    <button class=\"colab-df-convert\" onclick=\"convertToInteractive('df-09834991-fb75-42dc-b019-42b5ed5e8720')\"\n",
       "            title=\"Convert this dataframe to an interactive table.\"\n",
       "            style=\"display:none;\">\n",
       "\n",
       "  <svg xmlns=\"http://www.w3.org/2000/svg\" height=\"24px\" viewBox=\"0 -960 960 960\">\n",
       "    <path d=\"M120-120v-720h720v720H120Zm60-500h600v-160H180v160Zm220 220h160v-160H400v160Zm0 220h160v-160H400v160ZM180-400h160v-160H180v160Zm440 0h160v-160H620v160ZM180-180h160v-160H180v160Zm440 0h160v-160H620v160Z\"/>\n",
       "  </svg>\n",
       "    </button>\n",
       "\n",
       "  <style>\n",
       "    .colab-df-container {\n",
       "      display:flex;\n",
       "      gap: 12px;\n",
       "    }\n",
       "\n",
       "    .colab-df-convert {\n",
       "      background-color: #E8F0FE;\n",
       "      border: none;\n",
       "      border-radius: 50%;\n",
       "      cursor: pointer;\n",
       "      display: none;\n",
       "      fill: #1967D2;\n",
       "      height: 32px;\n",
       "      padding: 0 0 0 0;\n",
       "      width: 32px;\n",
       "    }\n",
       "\n",
       "    .colab-df-convert:hover {\n",
       "      background-color: #E2EBFA;\n",
       "      box-shadow: 0px 1px 2px rgba(60, 64, 67, 0.3), 0px 1px 3px 1px rgba(60, 64, 67, 0.15);\n",
       "      fill: #174EA6;\n",
       "    }\n",
       "\n",
       "    .colab-df-buttons div {\n",
       "      margin-bottom: 4px;\n",
       "    }\n",
       "\n",
       "    [theme=dark] .colab-df-convert {\n",
       "      background-color: #3B4455;\n",
       "      fill: #D2E3FC;\n",
       "    }\n",
       "\n",
       "    [theme=dark] .colab-df-convert:hover {\n",
       "      background-color: #434B5C;\n",
       "      box-shadow: 0px 1px 3px 1px rgba(0, 0, 0, 0.15);\n",
       "      filter: drop-shadow(0px 1px 2px rgba(0, 0, 0, 0.3));\n",
       "      fill: #FFFFFF;\n",
       "    }\n",
       "  </style>\n",
       "\n",
       "    <script>\n",
       "      const buttonEl =\n",
       "        document.querySelector('#df-09834991-fb75-42dc-b019-42b5ed5e8720 button.colab-df-convert');\n",
       "      buttonEl.style.display =\n",
       "        google.colab.kernel.accessAllowed ? 'block' : 'none';\n",
       "\n",
       "      async function convertToInteractive(key) {\n",
       "        const element = document.querySelector('#df-09834991-fb75-42dc-b019-42b5ed5e8720');\n",
       "        const dataTable =\n",
       "          await google.colab.kernel.invokeFunction('convertToInteractive',\n",
       "                                                    [key], {});\n",
       "        if (!dataTable) return;\n",
       "\n",
       "        const docLinkHtml = 'Like what you see? Visit the ' +\n",
       "          '<a target=\"_blank\" href=https://colab.research.google.com/notebooks/data_table.ipynb>data table notebook</a>'\n",
       "          + ' to learn more about interactive tables.';\n",
       "        element.innerHTML = '';\n",
       "        dataTable['output_type'] = 'display_data';\n",
       "        await google.colab.output.renderOutput(dataTable, element);\n",
       "        const docLink = document.createElement('div');\n",
       "        docLink.innerHTML = docLinkHtml;\n",
       "        element.appendChild(docLink);\n",
       "      }\n",
       "    </script>\n",
       "  </div>\n",
       "\n",
       "\n",
       "<div id=\"df-d6461d7b-b036-442b-8520-b4acd3721f5f\">\n",
       "  <button class=\"colab-df-quickchart\" onclick=\"quickchart('df-d6461d7b-b036-442b-8520-b4acd3721f5f')\"\n",
       "            title=\"Suggest charts\"\n",
       "            style=\"display:none;\">\n",
       "\n",
       "<svg xmlns=\"http://www.w3.org/2000/svg\" height=\"24px\"viewBox=\"0 0 24 24\"\n",
       "     width=\"24px\">\n",
       "    <g>\n",
       "        <path d=\"M19 3H5c-1.1 0-2 .9-2 2v14c0 1.1.9 2 2 2h14c1.1 0 2-.9 2-2V5c0-1.1-.9-2-2-2zM9 17H7v-7h2v7zm4 0h-2V7h2v10zm4 0h-2v-4h2v4z\"/>\n",
       "    </g>\n",
       "</svg>\n",
       "  </button>\n",
       "\n",
       "<style>\n",
       "  .colab-df-quickchart {\n",
       "      --bg-color: #E8F0FE;\n",
       "      --fill-color: #1967D2;\n",
       "      --hover-bg-color: #E2EBFA;\n",
       "      --hover-fill-color: #174EA6;\n",
       "      --disabled-fill-color: #AAA;\n",
       "      --disabled-bg-color: #DDD;\n",
       "  }\n",
       "\n",
       "  [theme=dark] .colab-df-quickchart {\n",
       "      --bg-color: #3B4455;\n",
       "      --fill-color: #D2E3FC;\n",
       "      --hover-bg-color: #434B5C;\n",
       "      --hover-fill-color: #FFFFFF;\n",
       "      --disabled-bg-color: #3B4455;\n",
       "      --disabled-fill-color: #666;\n",
       "  }\n",
       "\n",
       "  .colab-df-quickchart {\n",
       "    background-color: var(--bg-color);\n",
       "    border: none;\n",
       "    border-radius: 50%;\n",
       "    cursor: pointer;\n",
       "    display: none;\n",
       "    fill: var(--fill-color);\n",
       "    height: 32px;\n",
       "    padding: 0;\n",
       "    width: 32px;\n",
       "  }\n",
       "\n",
       "  .colab-df-quickchart:hover {\n",
       "    background-color: var(--hover-bg-color);\n",
       "    box-shadow: 0 1px 2px rgba(60, 64, 67, 0.3), 0 1px 3px 1px rgba(60, 64, 67, 0.15);\n",
       "    fill: var(--button-hover-fill-color);\n",
       "  }\n",
       "\n",
       "  .colab-df-quickchart-complete:disabled,\n",
       "  .colab-df-quickchart-complete:disabled:hover {\n",
       "    background-color: var(--disabled-bg-color);\n",
       "    fill: var(--disabled-fill-color);\n",
       "    box-shadow: none;\n",
       "  }\n",
       "\n",
       "  .colab-df-spinner {\n",
       "    border: 2px solid var(--fill-color);\n",
       "    border-color: transparent;\n",
       "    border-bottom-color: var(--fill-color);\n",
       "    animation:\n",
       "      spin 1s steps(1) infinite;\n",
       "  }\n",
       "\n",
       "  @keyframes spin {\n",
       "    0% {\n",
       "      border-color: transparent;\n",
       "      border-bottom-color: var(--fill-color);\n",
       "      border-left-color: var(--fill-color);\n",
       "    }\n",
       "    20% {\n",
       "      border-color: transparent;\n",
       "      border-left-color: var(--fill-color);\n",
       "      border-top-color: var(--fill-color);\n",
       "    }\n",
       "    30% {\n",
       "      border-color: transparent;\n",
       "      border-left-color: var(--fill-color);\n",
       "      border-top-color: var(--fill-color);\n",
       "      border-right-color: var(--fill-color);\n",
       "    }\n",
       "    40% {\n",
       "      border-color: transparent;\n",
       "      border-right-color: var(--fill-color);\n",
       "      border-top-color: var(--fill-color);\n",
       "    }\n",
       "    60% {\n",
       "      border-color: transparent;\n",
       "      border-right-color: var(--fill-color);\n",
       "    }\n",
       "    80% {\n",
       "      border-color: transparent;\n",
       "      border-right-color: var(--fill-color);\n",
       "      border-bottom-color: var(--fill-color);\n",
       "    }\n",
       "    90% {\n",
       "      border-color: transparent;\n",
       "      border-bottom-color: var(--fill-color);\n",
       "    }\n",
       "  }\n",
       "</style>\n",
       "\n",
       "  <script>\n",
       "    async function quickchart(key) {\n",
       "      const quickchartButtonEl =\n",
       "        document.querySelector('#' + key + ' button');\n",
       "      quickchartButtonEl.disabled = true;  // To prevent multiple clicks.\n",
       "      quickchartButtonEl.classList.add('colab-df-spinner');\n",
       "      try {\n",
       "        const charts = await google.colab.kernel.invokeFunction(\n",
       "            'suggestCharts', [key], {});\n",
       "      } catch (error) {\n",
       "        console.error('Error during call to suggestCharts:', error);\n",
       "      }\n",
       "      quickchartButtonEl.classList.remove('colab-df-spinner');\n",
       "      quickchartButtonEl.classList.add('colab-df-quickchart-complete');\n",
       "    }\n",
       "    (() => {\n",
       "      let quickchartButtonEl =\n",
       "        document.querySelector('#df-d6461d7b-b036-442b-8520-b4acd3721f5f button');\n",
       "      quickchartButtonEl.style.display =\n",
       "        google.colab.kernel.accessAllowed ? 'block' : 'none';\n",
       "    })();\n",
       "  </script>\n",
       "</div>\n",
       "\n",
       "  <div id=\"id_0f61796d-c43e-4f48-9dc8-9999d523aa9f\">\n",
       "    <style>\n",
       "      .colab-df-generate {\n",
       "        background-color: #E8F0FE;\n",
       "        border: none;\n",
       "        border-radius: 50%;\n",
       "        cursor: pointer;\n",
       "        display: none;\n",
       "        fill: #1967D2;\n",
       "        height: 32px;\n",
       "        padding: 0 0 0 0;\n",
       "        width: 32px;\n",
       "      }\n",
       "\n",
       "      .colab-df-generate:hover {\n",
       "        background-color: #E2EBFA;\n",
       "        box-shadow: 0px 1px 2px rgba(60, 64, 67, 0.3), 0px 1px 3px 1px rgba(60, 64, 67, 0.15);\n",
       "        fill: #174EA6;\n",
       "      }\n",
       "\n",
       "      [theme=dark] .colab-df-generate {\n",
       "        background-color: #3B4455;\n",
       "        fill: #D2E3FC;\n",
       "      }\n",
       "\n",
       "      [theme=dark] .colab-df-generate:hover {\n",
       "        background-color: #434B5C;\n",
       "        box-shadow: 0px 1px 3px 1px rgba(0, 0, 0, 0.15);\n",
       "        filter: drop-shadow(0px 1px 2px rgba(0, 0, 0, 0.3));\n",
       "        fill: #FFFFFF;\n",
       "      }\n",
       "    </style>\n",
       "    <button class=\"colab-df-generate\" onclick=\"generateWithVariable('metadata_df')\"\n",
       "            title=\"Generate code using this dataframe.\"\n",
       "            style=\"display:none;\">\n",
       "\n",
       "  <svg xmlns=\"http://www.w3.org/2000/svg\" height=\"24px\"viewBox=\"0 0 24 24\"\n",
       "       width=\"24px\">\n",
       "    <path d=\"M7,19H8.4L18.45,9,17,7.55,7,17.6ZM5,21V16.75L18.45,3.32a2,2,0,0,1,2.83,0l1.4,1.43a1.91,1.91,0,0,1,.58,1.4,1.91,1.91,0,0,1-.58,1.4L9.25,21ZM18.45,9,17,7.55Zm-12,3A5.31,5.31,0,0,0,4.9,8.1,5.31,5.31,0,0,0,1,6.5,5.31,5.31,0,0,0,4.9,4.9,5.31,5.31,0,0,0,6.5,1,5.31,5.31,0,0,0,8.1,4.9,5.31,5.31,0,0,0,12,6.5,5.46,5.46,0,0,0,6.5,12Z\"/>\n",
       "  </svg>\n",
       "    </button>\n",
       "    <script>\n",
       "      (() => {\n",
       "      const buttonEl =\n",
       "        document.querySelector('#id_0f61796d-c43e-4f48-9dc8-9999d523aa9f button.colab-df-generate');\n",
       "      buttonEl.style.display =\n",
       "        google.colab.kernel.accessAllowed ? 'block' : 'none';\n",
       "\n",
       "      buttonEl.onclick = () => {\n",
       "        google.colab.notebook.generateWithVariable('metadata_df');\n",
       "      }\n",
       "      })();\n",
       "    </script>\n",
       "  </div>\n",
       "\n",
       "    </div>\n",
       "  </div>\n"
      ],
      "text/plain": [
       "          image_id   age  head/neck  lower extremity  oral/genital  \\\n",
       "0     ISIC_5136612  65.0          0                0             0   \n",
       "1     ISIC_0031002  65.0          0                0             0   \n",
       "2     ISIC_0026875  35.0          0                0             0   \n",
       "3     ISIC_0024371  70.0          0                1             0   \n",
       "4     ISIC_0027263  85.0          0                0             0   \n",
       "...            ...   ...        ...              ...           ...   \n",
       "1395  ISIC_0027531  65.0          0                1             0   \n",
       "1396  ISIC_0025691  50.0          0                0             0   \n",
       "1397  ISIC_0028381  55.0          1                0             0   \n",
       "1398  ISIC_0033254  15.0          0                0             0   \n",
       "1399  ISIC_0026213  70.0          0                0             0   \n",
       "\n",
       "      palms/soles  torso  upper extremity  female  male  target  \n",
       "0               0      1                0       0     1       0  \n",
       "1               0      0                1       0     1       0  \n",
       "2               0      0                1       1     0       1  \n",
       "3               0      0                0       0     1       2  \n",
       "4               0      1                0       0     1       3  \n",
       "...           ...    ...              ...     ...   ...     ...  \n",
       "1395            0      0                0       0     1       5  \n",
       "1396            0      1                0       1     0       5  \n",
       "1397            0      0                0       1     0       6  \n",
       "1398            0      1                0       0     1       4  \n",
       "1399            0      1                0       0     1       5  \n",
       "\n",
       "[1400 rows x 11 columns]"
      ]
     },
     "execution_count": 6,
     "metadata": {},
     "output_type": "execute_result"
    }
   ],
   "source": [
    "metadata_df = pd.read_csv(metadata_path)\n",
    "metadata_df"
   ]
  },
  {
   "cell_type": "code",
   "execution_count": 7,
   "id": "4JFB86Agr4uv",
   "metadata": {
    "colab": {
     "base_uri": "https://localhost:8080/"
    },
    "executionInfo": {
     "elapsed": 6142,
     "status": "ok",
     "timestamp": 1713261778818,
     "user": {
      "displayName": "kp op",
      "userId": "00101497225649972179"
     },
     "user_tz": -480
    },
    "id": "4JFB86Agr4uv",
    "outputId": "9d8da7c1-83f3-4fc4-dabf-ed146b99ba92"
   },
   "outputs": [
    {
     "name": "stdout",
     "output_type": "stream",
     "text": [
      "Number of images:  1400\n"
     ]
    }
   ],
   "source": [
    "num_images = len([file for file in os.listdir(images_path) if os.path.isfile(os.path.join(images_path, file))])\n",
    "print(\"Number of images: \", num_images)"
   ]
  },
  {
   "cell_type": "markdown",
   "id": "d_wH_gDXTGX2",
   "metadata": {
    "id": "d_wH_gDXTGX2"
   },
   "source": [
    "## Train test split (Stratified Sampling)"
   ]
  },
  {
   "cell_type": "code",
   "execution_count": 8,
   "id": "a1fe1e4f-a5cd-42a8-ab39-dee09e1a8dcb",
   "metadata": {
    "colab": {
     "base_uri": "https://localhost:8080/"
    },
    "executionInfo": {
     "elapsed": 561,
     "status": "ok",
     "timestamp": 1713261779376,
     "user": {
      "displayName": "kp op",
      "userId": "00101497225649972179"
     },
     "user_tz": -480
    },
    "id": "a1fe1e4f-a5cd-42a8-ab39-dee09e1a8dcb",
    "outputId": "f8571b18-715e-45f6-9a7a-9660fc5a901a"
   },
   "outputs": [
    {
     "name": "stderr",
     "output_type": "stream",
     "text": [
      "ic| len(X_train): 1120, len(X_test): 140, len(X_val): 140\n"
     ]
    },
    {
     "data": {
      "text/plain": [
       "(1120, 140, 140)"
      ]
     },
     "execution_count": 8,
     "metadata": {},
     "output_type": "execute_result"
    }
   ],
   "source": [
    "# Split data in features and target:\n",
    "X = metadata_df  # features\n",
    "y = metadata_df['target']  # target\n",
    "\n",
    "# Splitting into train, test, and validation sets with stratified sampling\n",
    "X_train, X_temp, y_train, y_temp = train_test_split(X, y, test_size=0.2, random_state=0, stratify=y)\n",
    "X_val, X_test, y_val, y_test = train_test_split(X_temp, y_temp, test_size=0.5, random_state=0, stratify=y_temp)\n",
    "\n",
    "ic(len(X_train), len(X_test), len(X_val))"
   ]
  },
  {
   "cell_type": "code",
   "execution_count": 12,
   "id": "18a3cbe6-3569-4885-9b28-d70b31c8962b",
   "metadata": {
    "executionInfo": {
     "elapsed": 399,
     "status": "ok",
     "timestamp": 1713261923521,
     "user": {
      "displayName": "kp op",
      "userId": "00101497225649972179"
     },
     "user_tz": -480
    },
    "id": "18a3cbe6-3569-4885-9b28-d70b31c8962b"
   },
   "outputs": [],
   "source": [
    "# Resizing to 299x299, some transformations/augmentation\n",
    "train_transform = transforms.Compose([\n",
    "    transforms.Resize((299, 299)),\n",
    "    transforms.RandomHorizontalFlip(p=0.5),\n",
    "    transforms.RandomRotation(15),\n",
    "    transforms.RandomCrop(299, padding=4),\n",
    "    # transforms.ColorJitter(brightness=0.4, contrast=0.4, saturation=0.4, hue=0.2), # random adjustments\n",
    "    # transforms.GaussianBlur(kernel_size=3, sigma=(0.1, 2.0)),  # for blurry images\n",
    "    transforms.ToTensor(),\n",
    "    transforms.Normalize(mean=[0.485, 0.456, 0.406], std=[0.229, 0.224, 0.225])  # standard normalization\n",
    "])\n",
    "\n",
    "val_transform = transforms.Compose([\n",
    "    transforms.Resize((299, 299)),\n",
    "    transforms.ToTensor(),\n",
    "    transforms.Normalize(mean=[0.485, 0.456, 0.406], std=[0.229, 0.224, 0.225])\n",
    "])"
   ]
  },
  {
   "cell_type": "markdown",
   "id": "Cu0Egx0fSPIB",
   "metadata": {
    "id": "Cu0Egx0fSPIB"
   },
   "source": [
    "## Define CustomDataset function"
   ]
  },
  {
   "cell_type": "code",
   "execution_count": 13,
   "id": "0e9ec097-8eef-43e6-a814-b78e377d80a0",
   "metadata": {
    "executionInfo": {
     "elapsed": 508,
     "status": "ok",
     "timestamp": 1713261926144,
     "user": {
      "displayName": "kp op",
      "userId": "00101497225649972179"
     },
     "user_tz": -480
    },
    "id": "0e9ec097-8eef-43e6-a814-b78e377d80a0"
   },
   "outputs": [],
   "source": [
    "class CustomDataset(Dataset):\n",
    "    def __init__(self, metadata, transform=None):\n",
    "        self.metadata = metadata\n",
    "        self.images_path = images_path\n",
    "        self.transform = transform\n",
    "\n",
    "    def __len__(self):\n",
    "        return len(self.metadata)\n",
    "\n",
    "    def __getitem__(self, idx):\n",
    "        img_id = self.metadata.iloc[idx, 0]  # Get image ID of sample using the metadata index\n",
    "        img_name = os.path.join(self.images_path, f'processed_{img_id}.jpg')  # name of image files\n",
    "        if not os.path.exists(img_name):\n",
    "            raise FileNotFoundError(f\"Image file not found: {img_name}\")\n",
    "\n",
    "        image = Image.open(img_name)\n",
    "        row = metadata_df[metadata_df['image_id'] == img_id]\n",
    "        label = row.iloc[0]['target']\n",
    "\n",
    "        if self.transform is not None:\n",
    "            image = self.transform(image)\n",
    "\n",
    "        # # extract demographic features\n",
    "        # age = torch.tensor(self.metadata.iloc[idx, 1])\n",
    "        # localization = torch.tensor(self.metadata.iloc[idx, 3])\n",
    "        # gender = torch.tensor(self.metadata.iloc[idx, 4])\n",
    "\n",
    "        return image, label"
   ]
  },
  {
   "cell_type": "markdown",
   "id": "Gx1fyj5oSYkX",
   "metadata": {
    "id": "Gx1fyj5oSYkX"
   },
   "source": [
    "## Define train, validation and test datasets/dataloaders"
   ]
  },
  {
   "cell_type": "code",
   "execution_count": 14,
   "id": "q_kZ-NCW-68Q",
   "metadata": {
    "colab": {
     "base_uri": "https://localhost:8080/"
    },
    "executionInfo": {
     "elapsed": 4,
     "status": "ok",
     "timestamp": 1713261928278,
     "user": {
      "displayName": "kp op",
      "userId": "00101497225649972179"
     },
     "user_tz": -480
    },
    "id": "q_kZ-NCW-68Q",
    "outputId": "0dcc441a-d080-42de-bdd4-7e9e847b83fc"
   },
   "outputs": [
    {
     "name": "stderr",
     "output_type": "stream",
     "text": [
      "ic| len(train_dataset): 1120\n",
      "    len(val_dataset): 140\n",
      "    len(test_dataset): 140\n"
     ]
    },
    {
     "data": {
      "text/plain": [
       "(1120, 140, 140)"
      ]
     },
     "execution_count": 14,
     "metadata": {},
     "output_type": "execute_result"
    }
   ],
   "source": [
    "# custom datasets\n",
    "train_dataset = CustomDataset(metadata=X_train, transform=train_transform)\n",
    "val_dataset = CustomDataset(metadata=X_val, transform=val_transform)\n",
    "test_dataset = CustomDataset(metadata=X_test, transform=val_transform)\n",
    "\n",
    "# Create data loaders (optimized for faster loading)\n",
    "batch_size = 32\n",
    "train_loader = DataLoader(train_dataset, batch_size=batch_size, shuffle=True)\n",
    "val_loader = DataLoader(val_dataset, batch_size=batch_size, shuffle=False)\n",
    "test_loader = DataLoader(test_dataset, batch_size=batch_size, shuffle=False)\n",
    "\n",
    "# check\n",
    "ic(len(train_dataset), len(val_dataset), len(test_dataset))"
   ]
  },
  {
   "cell_type": "markdown",
   "id": "d1676d70-7c5f-4161-b0e8-b6231611a15f",
   "metadata": {
    "id": "d1676d70-7c5f-4161-b0e8-b6231611a15f"
   },
   "source": [
    "## InceptionNetv3 + modified last layer"
   ]
  },
  {
   "cell_type": "code",
   "execution_count": 15,
   "id": "dba72072-5a22-4817-a879-3ccf5774a2e2",
   "metadata": {
    "colab": {
     "base_uri": "https://localhost:8080/"
    },
    "executionInfo": {
     "elapsed": 1641,
     "status": "ok",
     "timestamp": 1713261931901,
     "user": {
      "displayName": "kp op",
      "userId": "00101497225649972179"
     },
     "user_tz": -480
    },
    "id": "dba72072-5a22-4817-a879-3ccf5774a2e2",
    "outputId": "69623c5e-a4d5-48a5-ed62-8479b7f6fd9c"
   },
   "outputs": [
    {
     "name": "stderr",
     "output_type": "stream",
     "text": [
      "Downloading: \"https://download.pytorch.org/models/inception_v3_google-0cc3c7bd.pth\" to /root/.cache/torch/hub/checkpoints/inception_v3_google-0cc3c7bd.pth\n",
      "100%|██████████| 104M/104M [00:00<00:00, 162MB/s] \n"
     ]
    }
   ],
   "source": [
    "model_inception = models.inception_v3(pretrained=True)"
   ]
  },
  {
   "cell_type": "markdown",
   "id": "662163da-0a45-48a9-b035-cfa6c7804c5a",
   "metadata": {
    "id": "662163da-0a45-48a9-b035-cfa6c7804c5a"
   },
   "source": [
    "#### Modify last layer\n",
    "- adjust to the appropriate number of output classes (7)"
   ]
  },
  {
   "cell_type": "code",
   "execution_count": 16,
   "id": "b4dd57ef-0dfc-4866-ad8d-50bef8db1d51",
   "metadata": {
    "executionInfo": {
     "elapsed": 3,
     "status": "ok",
     "timestamp": 1713261931901,
     "user": {
      "displayName": "kp op",
      "userId": "00101497225649972179"
     },
     "user_tz": -480
    },
    "id": "b4dd57ef-0dfc-4866-ad8d-50bef8db1d51"
   },
   "outputs": [],
   "source": [
    "num_features = model_inception.fc.in_features\n",
    "model_inception.fc = nn.Linear(num_features, 7)"
   ]
  },
  {
   "cell_type": "markdown",
   "id": "e95e0f6a-7911-486d-99b7-bad68a235e1c",
   "metadata": {
    "id": "e95e0f6a-7911-486d-99b7-bad68a235e1c"
   },
   "source": [
    "#### Adam optimizer + CEL"
   ]
  },
  {
   "cell_type": "code",
   "execution_count": 17,
   "id": "73213526-edea-4934-b1e1-ded1abb5d5cc",
   "metadata": {
    "executionInfo": {
     "elapsed": 2,
     "status": "ok",
     "timestamp": 1713261931901,
     "user": {
      "displayName": "kp op",
      "userId": "00101497225649972179"
     },
     "user_tz": -480
    },
    "id": "73213526-edea-4934-b1e1-ded1abb5d5cc"
   },
   "outputs": [],
   "source": [
    "# Loss function: CEL\n",
    "criterion = nn.CrossEntropyLoss()\n",
    "\n",
    "# Optimizer: Adam\n",
    "optimizer = torch.optim.Adam(model_inception.parameters(), lr=0.001)"
   ]
  },
  {
   "cell_type": "markdown",
   "id": "tivqFwF0SfaC",
   "metadata": {
    "id": "tivqFwF0SfaC"
   },
   "source": [
    "### Training"
   ]
  },
  {
   "cell_type": "code",
   "execution_count": 18,
   "id": "RxUbeI7yhVVV",
   "metadata": {
    "colab": {
     "base_uri": "https://localhost:8080/"
    },
    "executionInfo": {
     "elapsed": 560,
     "status": "ok",
     "timestamp": 1713261933352,
     "user": {
      "displayName": "kp op",
      "userId": "00101497225649972179"
     },
     "user_tz": -480
    },
    "id": "RxUbeI7yhVVV",
    "outputId": "61f3abbd-33cc-4cbd-f256-98bf116d85e7"
   },
   "outputs": [
    {
     "data": {
      "text/plain": [
       "CrossEntropyLoss()"
      ]
     },
     "execution_count": 18,
     "metadata": {},
     "output_type": "execute_result"
    }
   ],
   "source": [
    "model_inception.to(device)\n",
    "criterion.to(device)"
   ]
  },
  {
   "cell_type": "code",
   "execution_count": 27,
   "id": "EGIXSXUo-G7Z",
   "metadata": {
    "executionInfo": {
     "elapsed": 522,
     "status": "ok",
     "timestamp": 1713263163922,
     "user": {
      "displayName": "kp op",
      "userId": "00101497225649972179"
     },
     "user_tz": -480
    },
    "id": "EGIXSXUo-G7Z"
   },
   "outputs": [],
   "source": [
    "# Training for one epoch\n",
    "\n",
    "from torchvision.models.inception import InceptionOutputs\n",
    "\n",
    "def train_model(model, criterion, optimizer, train_loader, val_loader):\n",
    "\n",
    "    model.train()\n",
    "    train_loss = 0.0\n",
    "    correct_train = 0\n",
    "    total_train = 0\n",
    "\n",
    "    for images, labels in tqdm(train_loader):\n",
    "        labels = labels.long()\n",
    "        labels = labels.to(device)\n",
    "        images = images.to(device)\n",
    "        optimizer.zero_grad()\n",
    "        # forward propagation, i.e. get predictions\n",
    "        outputs = model(images)\n",
    "        if isinstance(outputs, InceptionOutputs):\n",
    "            logits = outputs.logits  # Use the logits attribute\n",
    "        else:\n",
    "            logits = outputs  # Directly use the outputs as logits\n",
    "        # calculate loss and backpropagate to model paramters:\n",
    "        loss = criterion(logits, labels)\n",
    "        loss.backward()\n",
    "        optimizer.step()\n",
    "        train_loss += loss.item() * images.size(0)\n",
    "        _, predicted = torch.max(logits, 1)\n",
    "        total_train += labels.size(0)\n",
    "        correct_train += (predicted == labels).sum().item()\n",
    "\n",
    "    train_loss /= len(train_loader.dataset)\n",
    "    train_acc = correct_train / total_train\n",
    "\n",
    "    model.eval()\n",
    "    val_loss = 0.0\n",
    "    correct_val = 0\n",
    "    total_val = 0\n",
    "\n",
    "    with torch.no_grad():\n",
    "        for images, labels in val_loader:\n",
    "            labels=labels.long()\n",
    "            images = images.to(device)\n",
    "            labels = labels.to(device)\n",
    "            outputs = model(images)\n",
    "            if isinstance(outputs, InceptionOutputs):\n",
    "                logits = outputs.logits  # Use the logits attribute\n",
    "            else:\n",
    "                logits = outputs  # Directly use the outputs as logits\n",
    "            loss = criterion(logits, labels)\n",
    "            val_loss += loss.item() * images.size(0)\n",
    "            _, predicted = torch.max(logits, 1)\n",
    "            total_val += labels.size(0)\n",
    "            correct_val += (predicted == labels).sum().item()\n",
    "\n",
    "    val_loss /= len(val_loader.dataset)\n",
    "    val_acc = correct_val / total_val\n",
    "\n",
    "    return train_loss, val_loss, train_acc, val_acc"
   ]
  },
  {
   "cell_type": "code",
   "execution_count": 28,
   "id": "lISck43p-G4j",
   "metadata": {
    "colab": {
     "base_uri": "https://localhost:8080/"
    },
    "executionInfo": {
     "elapsed": 853006,
     "status": "ok",
     "timestamp": 1713264018195,
     "user": {
      "displayName": "kp op",
      "userId": "00101497225649972179"
     },
     "user_tz": -480
    },
    "id": "lISck43p-G4j",
    "outputId": "8b7661df-5981-44b4-a6f2-222722553def"
   },
   "outputs": [
    {
     "name": "stderr",
     "output_type": "stream",
     "text": [
      "100%|██████████| 35/35 [00:25<00:00,  1.38it/s]\n"
     ]
    },
    {
     "name": "stdout",
     "output_type": "stream",
     "text": [
      "Epoch 1/30, Train Loss: 1.3979, Train Acc: 0.4679, Val Loss: 1.9867, Val Acc: 0.4143, Elapsed Time: 61.45 seconds\n"
     ]
    },
    {
     "name": "stderr",
     "output_type": "stream",
     "text": [
      "100%|██████████| 35/35 [00:25<00:00,  1.39it/s]\n"
     ]
    },
    {
     "name": "stdout",
     "output_type": "stream",
     "text": [
      "Epoch 2/30, Train Loss: 1.2466, Train Acc: 0.5375, Val Loss: 1.3612, Val Acc: 0.5357, Elapsed Time: 26.83 seconds\n"
     ]
    },
    {
     "name": "stderr",
     "output_type": "stream",
     "text": [
      "100%|██████████| 35/35 [00:25<00:00,  1.39it/s]\n"
     ]
    },
    {
     "name": "stdout",
     "output_type": "stream",
     "text": [
      "Epoch 3/30, Train Loss: 1.1550, Train Acc: 0.5768, Val Loss: 1.3269, Val Acc: 0.5643, Elapsed Time: 26.92 seconds\n"
     ]
    },
    {
     "name": "stderr",
     "output_type": "stream",
     "text": [
      "100%|██████████| 35/35 [00:25<00:00,  1.38it/s]\n"
     ]
    },
    {
     "name": "stdout",
     "output_type": "stream",
     "text": [
      "Epoch 4/30, Train Loss: 1.0720, Train Acc: 0.6036, Val Loss: 1.2686, Val Acc: 0.5500, Elapsed Time: 27.03 seconds\n"
     ]
    },
    {
     "name": "stderr",
     "output_type": "stream",
     "text": [
      "100%|██████████| 35/35 [00:25<00:00,  1.37it/s]\n"
     ]
    },
    {
     "name": "stdout",
     "output_type": "stream",
     "text": [
      "Epoch 5/30, Train Loss: 1.0174, Train Acc: 0.6098, Val Loss: 1.2275, Val Acc: 0.6000, Elapsed Time: 27.11 seconds\n"
     ]
    },
    {
     "name": "stderr",
     "output_type": "stream",
     "text": [
      "100%|██████████| 35/35 [00:25<00:00,  1.38it/s]\n"
     ]
    },
    {
     "name": "stdout",
     "output_type": "stream",
     "text": [
      "Epoch 6/30, Train Loss: 0.9645, Train Acc: 0.6545, Val Loss: 1.2999, Val Acc: 0.5500, Elapsed Time: 26.93 seconds\n"
     ]
    },
    {
     "name": "stderr",
     "output_type": "stream",
     "text": [
      "100%|██████████| 35/35 [00:25<00:00,  1.37it/s]\n"
     ]
    },
    {
     "name": "stdout",
     "output_type": "stream",
     "text": [
      "Epoch 7/30, Train Loss: 0.9027, Train Acc: 0.6866, Val Loss: 1.2322, Val Acc: 0.6071, Elapsed Time: 27.16 seconds\n"
     ]
    },
    {
     "name": "stderr",
     "output_type": "stream",
     "text": [
      "100%|██████████| 35/35 [00:25<00:00,  1.39it/s]\n"
     ]
    },
    {
     "name": "stdout",
     "output_type": "stream",
     "text": [
      "Epoch 8/30, Train Loss: 0.9267, Train Acc: 0.6723, Val Loss: 1.5343, Val Acc: 0.5786, Elapsed Time: 26.86 seconds\n"
     ]
    },
    {
     "name": "stderr",
     "output_type": "stream",
     "text": [
      "100%|██████████| 35/35 [00:25<00:00,  1.38it/s]\n"
     ]
    },
    {
     "name": "stdout",
     "output_type": "stream",
     "text": [
      "Epoch 9/30, Train Loss: 0.8300, Train Acc: 0.6911, Val Loss: 1.2050, Val Acc: 0.5429, Elapsed Time: 26.98 seconds\n"
     ]
    },
    {
     "name": "stderr",
     "output_type": "stream",
     "text": [
      "100%|██████████| 35/35 [00:25<00:00,  1.37it/s]\n"
     ]
    },
    {
     "name": "stdout",
     "output_type": "stream",
     "text": [
      "Epoch 10/30, Train Loss: 0.7916, Train Acc: 0.7179, Val Loss: 1.7376, Val Acc: 0.5071, Elapsed Time: 27.22 seconds\n"
     ]
    },
    {
     "name": "stderr",
     "output_type": "stream",
     "text": [
      "100%|██████████| 35/35 [00:25<00:00,  1.38it/s]\n"
     ]
    },
    {
     "name": "stdout",
     "output_type": "stream",
     "text": [
      "Epoch 11/30, Train Loss: 0.7768, Train Acc: 0.7232, Val Loss: 1.4515, Val Acc: 0.5357, Elapsed Time: 27.05 seconds\n"
     ]
    },
    {
     "name": "stderr",
     "output_type": "stream",
     "text": [
      "100%|██████████| 35/35 [00:25<00:00,  1.37it/s]\n"
     ]
    },
    {
     "name": "stdout",
     "output_type": "stream",
     "text": [
      "Epoch 12/30, Train Loss: 0.7087, Train Acc: 0.7482, Val Loss: 1.3983, Val Acc: 0.6286, Elapsed Time: 27.36 seconds\n"
     ]
    },
    {
     "name": "stderr",
     "output_type": "stream",
     "text": [
      "100%|██████████| 35/35 [00:25<00:00,  1.37it/s]\n"
     ]
    },
    {
     "name": "stdout",
     "output_type": "stream",
     "text": [
      "Epoch 13/30, Train Loss: 0.6458, Train Acc: 0.7714, Val Loss: 2.3695, Val Acc: 0.4429, Elapsed Time: 27.50 seconds\n"
     ]
    },
    {
     "name": "stderr",
     "output_type": "stream",
     "text": [
      "100%|██████████| 35/35 [00:25<00:00,  1.35it/s]\n"
     ]
    },
    {
     "name": "stdout",
     "output_type": "stream",
     "text": [
      "Epoch 14/30, Train Loss: 0.6937, Train Acc: 0.7562, Val Loss: 1.1903, Val Acc: 0.6143, Elapsed Time: 27.93 seconds\n"
     ]
    },
    {
     "name": "stderr",
     "output_type": "stream",
     "text": [
      "100%|██████████| 35/35 [00:25<00:00,  1.37it/s]\n"
     ]
    },
    {
     "name": "stdout",
     "output_type": "stream",
     "text": [
      "Epoch 15/30, Train Loss: 0.6785, Train Acc: 0.7545, Val Loss: 1.3445, Val Acc: 0.5929, Elapsed Time: 27.54 seconds\n"
     ]
    },
    {
     "name": "stderr",
     "output_type": "stream",
     "text": [
      "100%|██████████| 35/35 [00:25<00:00,  1.38it/s]\n"
     ]
    },
    {
     "name": "stdout",
     "output_type": "stream",
     "text": [
      "Epoch 16/30, Train Loss: 0.5933, Train Acc: 0.7982, Val Loss: 1.3962, Val Acc: 0.6214, Elapsed Time: 27.15 seconds\n"
     ]
    },
    {
     "name": "stderr",
     "output_type": "stream",
     "text": [
      "100%|██████████| 35/35 [00:27<00:00,  1.26it/s]\n"
     ]
    },
    {
     "name": "stdout",
     "output_type": "stream",
     "text": [
      "Epoch 17/30, Train Loss: 0.5631, Train Acc: 0.8018, Val Loss: 1.5519, Val Acc: 0.6000, Elapsed Time: 29.56 seconds\n"
     ]
    },
    {
     "name": "stderr",
     "output_type": "stream",
     "text": [
      "100%|██████████| 35/35 [00:26<00:00,  1.31it/s]\n"
     ]
    },
    {
     "name": "stdout",
     "output_type": "stream",
     "text": [
      "Epoch 18/30, Train Loss: 0.4645, Train Acc: 0.8429, Val Loss: 1.2335, Val Acc: 0.6000, Elapsed Time: 28.53 seconds\n"
     ]
    },
    {
     "name": "stderr",
     "output_type": "stream",
     "text": [
      "100%|██████████| 35/35 [00:25<00:00,  1.38it/s]\n"
     ]
    },
    {
     "name": "stdout",
     "output_type": "stream",
     "text": [
      "Epoch 19/30, Train Loss: 0.4085, Train Acc: 0.8625, Val Loss: 1.1201, Val Acc: 0.6786, Elapsed Time: 27.12 seconds\n"
     ]
    },
    {
     "name": "stderr",
     "output_type": "stream",
     "text": [
      "100%|██████████| 35/35 [00:25<00:00,  1.38it/s]\n"
     ]
    },
    {
     "name": "stdout",
     "output_type": "stream",
     "text": [
      "Epoch 20/30, Train Loss: 0.4439, Train Acc: 0.8509, Val Loss: 1.3235, Val Acc: 0.5714, Elapsed Time: 27.07 seconds\n"
     ]
    },
    {
     "name": "stderr",
     "output_type": "stream",
     "text": [
      "100%|██████████| 35/35 [00:25<00:00,  1.38it/s]\n"
     ]
    },
    {
     "name": "stdout",
     "output_type": "stream",
     "text": [
      "Epoch 21/30, Train Loss: 0.4927, Train Acc: 0.8286, Val Loss: 1.2839, Val Acc: 0.6143, Elapsed Time: 27.12 seconds\n"
     ]
    },
    {
     "name": "stderr",
     "output_type": "stream",
     "text": [
      "100%|██████████| 35/35 [00:25<00:00,  1.37it/s]\n"
     ]
    },
    {
     "name": "stdout",
     "output_type": "stream",
     "text": [
      "Epoch 22/30, Train Loss: 0.4343, Train Acc: 0.8491, Val Loss: 1.6922, Val Acc: 0.5357, Elapsed Time: 27.16 seconds\n"
     ]
    },
    {
     "name": "stderr",
     "output_type": "stream",
     "text": [
      "100%|██████████| 35/35 [00:25<00:00,  1.37it/s]\n"
     ]
    },
    {
     "name": "stdout",
     "output_type": "stream",
     "text": [
      "Epoch 23/30, Train Loss: 0.4468, Train Acc: 0.8330, Val Loss: 1.5903, Val Acc: 0.6571, Elapsed Time: 27.19 seconds\n"
     ]
    },
    {
     "name": "stderr",
     "output_type": "stream",
     "text": [
      "100%|██████████| 35/35 [00:25<00:00,  1.37it/s]\n"
     ]
    },
    {
     "name": "stdout",
     "output_type": "stream",
     "text": [
      "Epoch 24/30, Train Loss: 0.4703, Train Acc: 0.8348, Val Loss: 1.2494, Val Acc: 0.6929, Elapsed Time: 27.12 seconds\n"
     ]
    },
    {
     "name": "stderr",
     "output_type": "stream",
     "text": [
      "100%|██████████| 35/35 [00:25<00:00,  1.37it/s]\n"
     ]
    },
    {
     "name": "stdout",
     "output_type": "stream",
     "text": [
      "Epoch 25/30, Train Loss: 0.3388, Train Acc: 0.8857, Val Loss: 1.1477, Val Acc: 0.6929, Elapsed Time: 27.18 seconds\n"
     ]
    },
    {
     "name": "stderr",
     "output_type": "stream",
     "text": [
      "100%|██████████| 35/35 [00:25<00:00,  1.37it/s]\n"
     ]
    },
    {
     "name": "stdout",
     "output_type": "stream",
     "text": [
      "Epoch 26/30, Train Loss: 0.3005, Train Acc: 0.8893, Val Loss: 1.2771, Val Acc: 0.7214, Elapsed Time: 27.27 seconds\n"
     ]
    },
    {
     "name": "stderr",
     "output_type": "stream",
     "text": [
      "100%|██████████| 35/35 [00:25<00:00,  1.37it/s]\n"
     ]
    },
    {
     "name": "stdout",
     "output_type": "stream",
     "text": [
      "Epoch 27/30, Train Loss: 0.3126, Train Acc: 0.8839, Val Loss: 1.4463, Val Acc: 0.6286, Elapsed Time: 27.19 seconds\n"
     ]
    },
    {
     "name": "stderr",
     "output_type": "stream",
     "text": [
      "100%|██████████| 35/35 [00:25<00:00,  1.37it/s]\n"
     ]
    },
    {
     "name": "stdout",
     "output_type": "stream",
     "text": [
      "Epoch 28/30, Train Loss: 0.3529, Train Acc: 0.8804, Val Loss: 1.3080, Val Acc: 0.6714, Elapsed Time: 27.16 seconds\n"
     ]
    },
    {
     "name": "stderr",
     "output_type": "stream",
     "text": [
      "100%|██████████| 35/35 [00:25<00:00,  1.38it/s]\n"
     ]
    },
    {
     "name": "stdout",
     "output_type": "stream",
     "text": [
      "Epoch 29/30, Train Loss: 0.1962, Train Acc: 0.9366, Val Loss: 1.2197, Val Acc: 0.6643, Elapsed Time: 27.06 seconds\n"
     ]
    },
    {
     "name": "stderr",
     "output_type": "stream",
     "text": [
      "100%|██████████| 35/35 [00:25<00:00,  1.37it/s]\n"
     ]
    },
    {
     "name": "stdout",
     "output_type": "stream",
     "text": [
      "Epoch 30/30, Train Loss: 0.2735, Train Acc: 0.9071, Val Loss: 1.5601, Val Acc: 0.6500, Elapsed Time: 27.27 seconds\n"
     ]
    }
   ],
   "source": [
    "# specify epochs to train\n",
    "total_epochs = 30\n",
    "\n",
    "tl = []\n",
    "vl = []\n",
    "ta = []\n",
    "va = []\n",
    "\n",
    "for epoch in range(total_epochs):\n",
    "    start_time = time.time()  # Record start time\n",
    "\n",
    "    train_loss, val_loss, train_acc, val_acc = train_model(model_inception, criterion, optimizer, train_loader, val_loader)\n",
    "    tl.append(train_loss)\n",
    "    vl.append(val_loss)\n",
    "    ta.append(train_acc)\n",
    "    va.append(val_acc)\n",
    "\n",
    "    elapsed_time = time.time() - start_time  # Calculate elapsed time\n",
    "\n",
    "    print(f\"Epoch {epoch+1}/{total_epochs}, Train Loss: {train_loss:.4f}, Train Acc: {train_acc:.4f}, Val Loss: {val_loss:.4f}, Val Acc: {val_acc:.4f}, Elapsed Time: {elapsed_time:.2f} seconds\")"
   ]
  },
  {
   "cell_type": "code",
   "execution_count": 38,
   "id": "T7OhGgYL3Qq1",
   "metadata": {
    "colab": {
     "base_uri": "https://localhost:8080/"
    },
    "executionInfo": {
     "elapsed": 271508,
     "status": "ok",
     "timestamp": 1713264494123,
     "user": {
      "displayName": "kp op",
      "userId": "00101497225649972179"
     },
     "user_tz": -480
    },
    "id": "T7OhGgYL3Qq1",
    "outputId": "70a350f7-376d-4e3d-8e2b-26c0f8671b56"
   },
   "outputs": [
    {
     "name": "stderr",
     "output_type": "stream",
     "text": [
      "100%|██████████| 35/35 [00:24<00:00,  1.40it/s]\n"
     ]
    },
    {
     "name": "stdout",
     "output_type": "stream",
     "text": [
      "Epoch 31/40, Train Loss: 0.3250, Train Acc: 0.8830, Val Loss: 1.4292, Val Acc: 0.6714, Elapsed Time: 26.58 seconds\n"
     ]
    },
    {
     "name": "stderr",
     "output_type": "stream",
     "text": [
      "100%|██████████| 35/35 [00:25<00:00,  1.39it/s]\n"
     ]
    },
    {
     "name": "stdout",
     "output_type": "stream",
     "text": [
      "Epoch 32/40, Train Loss: 0.2676, Train Acc: 0.9098, Val Loss: 1.3645, Val Acc: 0.6286, Elapsed Time: 26.82 seconds\n"
     ]
    },
    {
     "name": "stderr",
     "output_type": "stream",
     "text": [
      "100%|██████████| 35/35 [00:25<00:00,  1.38it/s]\n"
     ]
    },
    {
     "name": "stdout",
     "output_type": "stream",
     "text": [
      "Epoch 33/40, Train Loss: 0.3016, Train Acc: 0.9018, Val Loss: 1.6125, Val Acc: 0.6071, Elapsed Time: 26.96 seconds\n"
     ]
    },
    {
     "name": "stderr",
     "output_type": "stream",
     "text": [
      "100%|██████████| 35/35 [00:25<00:00,  1.38it/s]\n"
     ]
    },
    {
     "name": "stdout",
     "output_type": "stream",
     "text": [
      "Epoch 34/40, Train Loss: 0.2564, Train Acc: 0.9187, Val Loss: 1.3684, Val Acc: 0.7000, Elapsed Time: 27.03 seconds\n"
     ]
    },
    {
     "name": "stderr",
     "output_type": "stream",
     "text": [
      "100%|██████████| 35/35 [00:25<00:00,  1.39it/s]\n"
     ]
    },
    {
     "name": "stdout",
     "output_type": "stream",
     "text": [
      "Epoch 35/40, Train Loss: 0.2828, Train Acc: 0.9054, Val Loss: 1.3701, Val Acc: 0.7143, Elapsed Time: 26.97 seconds\n"
     ]
    },
    {
     "name": "stderr",
     "output_type": "stream",
     "text": [
      "100%|██████████| 35/35 [00:25<00:00,  1.38it/s]\n"
     ]
    },
    {
     "name": "stdout",
     "output_type": "stream",
     "text": [
      "Epoch 36/40, Train Loss: 0.1780, Train Acc: 0.9357, Val Loss: 1.1691, Val Acc: 0.7143, Elapsed Time: 27.29 seconds\n"
     ]
    },
    {
     "name": "stderr",
     "output_type": "stream",
     "text": [
      "100%|██████████| 35/35 [00:25<00:00,  1.38it/s]\n"
     ]
    },
    {
     "name": "stdout",
     "output_type": "stream",
     "text": [
      "Epoch 37/40, Train Loss: 0.1734, Train Acc: 0.9437, Val Loss: 1.6407, Val Acc: 0.7000, Elapsed Time: 27.25 seconds\n"
     ]
    },
    {
     "name": "stderr",
     "output_type": "stream",
     "text": [
      "100%|██████████| 35/35 [00:25<00:00,  1.37it/s]\n"
     ]
    },
    {
     "name": "stdout",
     "output_type": "stream",
     "text": [
      "Epoch 38/40, Train Loss: 0.1345, Train Acc: 0.9500, Val Loss: 1.7163, Val Acc: 0.7143, Elapsed Time: 27.45 seconds\n"
     ]
    },
    {
     "name": "stderr",
     "output_type": "stream",
     "text": [
      "100%|██████████| 35/35 [00:25<00:00,  1.37it/s]\n"
     ]
    },
    {
     "name": "stdout",
     "output_type": "stream",
     "text": [
      "Epoch 39/40, Train Loss: 0.1951, Train Acc: 0.9339, Val Loss: 1.5390, Val Acc: 0.6143, Elapsed Time: 27.42 seconds\n"
     ]
    },
    {
     "name": "stderr",
     "output_type": "stream",
     "text": [
      "100%|██████████| 35/35 [00:25<00:00,  1.38it/s]\n"
     ]
    },
    {
     "name": "stdout",
     "output_type": "stream",
     "text": [
      "Epoch 40/40, Train Loss: 0.2639, Train Acc: 0.9125, Val Loss: 1.9116, Val Acc: 0.6071, Elapsed Time: 27.29 seconds\n"
     ]
    }
   ],
   "source": [
    "# extra epochs (if needed)\n",
    "\n",
    "for epoch in range(10):\n",
    "    start_time = time.time()  # Record start time\n",
    "\n",
    "    train_loss, val_loss, train_acc, val_acc = train_model(model_inception, criterion, optimizer, train_loader, val_loader)\n",
    "    tl.append(train_loss)\n",
    "    vl.append(val_loss)\n",
    "    ta.append(train_acc)\n",
    "    va.append(val_acc)\n",
    "\n",
    "    elapsed_time = time.time() - start_time  # Calculate elapsed time\n",
    "\n",
    "    print(f\"Epoch {30+epoch+1}/{40}, Train Loss: {train_loss:.4f}, Train Acc: {train_acc:.4f}, Val Loss: {val_loss:.4f}, Val Acc: {val_acc:.4f}, Elapsed Time: {elapsed_time:.2f} seconds\")"
   ]
  },
  {
   "cell_type": "markdown",
   "id": "MMuF7Hl8TWd0",
   "metadata": {
    "id": "MMuF7Hl8TWd0"
   },
   "source": [
    "### Visualisation"
   ]
  },
  {
   "cell_type": "code",
   "execution_count": 29,
   "id": "CaKfe7a3fski",
   "metadata": {
    "executionInfo": {
     "elapsed": 4,
     "status": "ok",
     "timestamp": 1713264018781,
     "user": {
      "displayName": "kp op",
      "userId": "00101497225649972179"
     },
     "user_tz": -480
    },
    "id": "CaKfe7a3fski"
   },
   "outputs": [],
   "source": [
    "# visualisation function\n",
    "def plotResults():\n",
    "    plt.figure(figsize=(10,6))\n",
    "    epovec=range(len(ta))\n",
    "    plt.plot(epovec,ta,epovec,tl,epovec,va,epovec,vl,linewidth=3)\n",
    "    plt.legend(('Training Accuracy','Training Loss','Validation Accuracy','Validation Loss'))\n",
    "\n",
    "    # make the graph understandable:\n",
    "    plt.title(\"Losses and Accuracies\")\n",
    "    plt.xlabel(\"Epoch #\")\n",
    "    plt.ylabel(\"Loss/Accuracy\")\n",
    "    plt.show()"
   ]
  },
  {
   "cell_type": "code",
   "execution_count": 30,
   "id": "a7xyl98V3pFu",
   "metadata": {
    "executionInfo": {
     "elapsed": 3,
     "status": "ok",
     "timestamp": 1713264018781,
     "user": {
      "displayName": "kp op",
      "userId": "00101497225649972179"
     },
     "user_tz": -480
    },
    "id": "a7xyl98V3pFu"
   },
   "outputs": [],
   "source": [
    "# plot loss function\n",
    "def plotLosses():\n",
    "    plt.figure(figsize=(10,6))\n",
    "    epovec=range(len(tl))\n",
    "    plt.plot(epovec,tl,epovec,vl,linewidth=3)\n",
    "    plt.legend(('Training Loss', 'Validation Loss'))\n",
    "\n",
    "    # make the graph understandable:\n",
    "    plt.title(\"Training and Validation Losses\")\n",
    "    plt.xlabel(\"Epoch #\")\n",
    "    plt.ylabel(\"Loss\")\n",
    "    plt.show()"
   ]
  },
  {
   "cell_type": "code",
   "execution_count": 31,
   "id": "VoQ5tCb939yC",
   "metadata": {
    "executionInfo": {
     "elapsed": 2,
     "status": "ok",
     "timestamp": 1713264018781,
     "user": {
      "displayName": "kp op",
      "userId": "00101497225649972179"
     },
     "user_tz": -480
    },
    "id": "VoQ5tCb939yC"
   },
   "outputs": [],
   "source": [
    "# plot accuracies function\n",
    "def plotAccuracies():\n",
    "    plt.figure(figsize=(10,6))\n",
    "    epovec=range(len(ta))\n",
    "    plt.plot(epovec,ta,epovec,va,linewidth=3)\n",
    "    plt.legend(('Training Accuracy', 'Validation Accuracy'))\n",
    "\n",
    "    # make the graph understandable:\n",
    "    plt.title(\"Training and Validation Accuracies\")\n",
    "    plt.xlabel(\"Epoch #\")\n",
    "    plt.ylabel(\"Accuracy\")\n",
    "    plt.show()"
   ]
  },
  {
   "cell_type": "code",
   "execution_count": 33,
   "id": "52hvz43-50fE",
   "metadata": {
    "executionInfo": {
     "elapsed": 1,
     "status": "ok",
     "timestamp": 1713264112107,
     "user": {
      "displayName": "kp op",
      "userId": "00101497225649972179"
     },
     "user_tz": -480
    },
    "id": "52hvz43-50fE"
   },
   "outputs": [],
   "source": [
    "# evaluate model function\n",
    "def evaluate_model(model, criterion, data_loader):\n",
    "    model.eval()\n",
    "    loss = 0.0\n",
    "    correct = 0\n",
    "    total = 0\n",
    "\n",
    "    all_predictions = []\n",
    "    all_labels = []\n",
    "\n",
    "    with torch.no_grad():\n",
    "        for images, labels in data_loader:\n",
    "            labels = labels.long()\n",
    "            images, labels = images.to(device), labels.to(device)\n",
    "            outputs = model(images)\n",
    "            if isinstance(outputs, InceptionOutputs):\n",
    "                logits = outputs.logits  # Use the logits attribute\n",
    "            else:\n",
    "                logits = outputs  # Directly use the outputs as logits\n",
    "            loss += criterion(logits, labels).item() * images.size(0)\n",
    "            _, predicted = torch.max(logits, 1)\n",
    "            total += labels.size(0)\n",
    "            correct += (predicted == labels).sum().item()\n",
    "\n",
    "            all_predictions.extend(predicted.cpu().numpy())\n",
    "            all_labels.extend(labels.cpu().numpy())\n",
    "\n",
    "    loss /= len(data_loader.dataset)\n",
    "    accuracy = correct / total\n",
    "\n",
    "    return loss, accuracy, all_predictions, all_labels"
   ]
  },
  {
   "cell_type": "code",
   "execution_count": 39,
   "id": "kt4ZdZbjdxmX",
   "metadata": {
    "colab": {
     "base_uri": "https://localhost:8080/",
     "height": 534
    },
    "executionInfo": {
     "elapsed": 878,
     "status": "ok",
     "timestamp": 1713264517614,
     "user": {
      "displayName": "kp op",
      "userId": "00101497225649972179"
     },
     "user_tz": -480
    },
    "id": "kt4ZdZbjdxmX",
    "outputId": "ab770aa2-8c5d-4486-97f3-3db6f471591e"
   },
   "outputs": [
    {
     "data": {
      "image/png": "[encoded data removed]",
      "text/plain": [
       "<Figure size 1000x600 with 1 Axes>"
      ]
     },
     "metadata": {},
     "output_type": "display_data"
    }
   ],
   "source": [
    "plotResults()"
   ]
  },
  {
   "cell_type": "code",
   "execution_count": 40,
   "id": "hDlQhi2l3aoX",
   "metadata": {
    "colab": {
     "base_uri": "https://localhost:8080/",
     "height": 534
    },
    "executionInfo": {
     "elapsed": 603,
     "status": "ok",
     "timestamp": 1713264518214,
     "user": {
      "displayName": "kp op",
      "userId": "00101497225649972179"
     },
     "user_tz": -480
    },
    "id": "hDlQhi2l3aoX",
    "outputId": "957412f6-346f-4e6a-d0bc-e23a039d4aaf"
   },
   "outputs": [
    {
     "data": {
      "image/png": "[encoded data removed]",
      "text/plain": [
       "<Figure size 1000x600 with 1 Axes>"
      ]
     },
     "metadata": {},
     "output_type": "display_data"
    }
   ],
   "source": [
    "# plot losses separately\n",
    "plotLosses()"
   ]
  },
  {
   "cell_type": "code",
   "execution_count": 41,
   "id": "eYIGsAvU3afX",
   "metadata": {
    "colab": {
     "base_uri": "https://localhost:8080/",
     "height": 534
    },
    "executionInfo": {
     "elapsed": 7,
     "status": "ok",
     "timestamp": 1713264520538,
     "user": {
      "displayName": "kp op",
      "userId": "00101497225649972179"
     },
     "user_tz": -480
    },
    "id": "eYIGsAvU3afX",
    "outputId": "494997dc-d775-48fc-d86b-e209e1576e59"
   },
   "outputs": [
    {
     "data": {
      "image/png": "[encoded data removed]",
      "text/plain": [
       "<Figure size 1000x600 with 1 Axes>"
      ]
     },
     "metadata": {},
     "output_type": "display_data"
    }
   ],
   "source": [
    "# plot accuracies separately\n",
    "plotAccuracies()"
   ]
  },
  {
   "cell_type": "markdown",
   "id": "WlMpFkdl0GkE",
   "metadata": {
    "id": "WlMpFkdl0GkE"
   },
   "source": [
    "### Evaluation on Test Set"
   ]
  },
  {
   "cell_type": "markdown",
   "id": "qIsbcr5bhhFv",
   "metadata": {
    "id": "qIsbcr5bhhFv"
   },
   "source": [
    "#### 40 epochs"
   ]
  },
  {
   "cell_type": "code",
   "execution_count": 42,
   "id": "EPy-1dYvgSS9",
   "metadata": {
    "colab": {
     "base_uri": "https://localhost:8080/"
    },
    "executionInfo": {
     "elapsed": 1280,
     "status": "ok",
     "timestamp": 1713264526094,
     "user": {
      "displayName": "kp op",
      "userId": "00101497225649972179"
     },
     "user_tz": -480
    },
    "id": "EPy-1dYvgSS9",
    "outputId": "b88e902a-ae3a-4436-aea6-01a17f9891b6"
   },
   "outputs": [
    {
     "name": "stdout",
     "output_type": "stream",
     "text": [
      "Classification Report:\n",
      "               precision    recall  f1-score   support\n",
      "\n",
      "           0       0.65      0.75      0.70        20\n",
      "           1       0.46      0.65      0.54        20\n",
      "           2       0.41      0.55      0.47        20\n",
      "           3       0.62      0.25      0.36        20\n",
      "           4       0.93      0.70      0.80        20\n",
      "           5       0.53      0.80      0.64        20\n",
      "           6       0.56      0.25      0.34        20\n",
      "\n",
      "    accuracy                           0.56       140\n",
      "   macro avg       0.60      0.56      0.55       140\n",
      "weighted avg       0.60      0.56      0.55       140\n",
      "\n",
      "Confusion Matrix:\n",
      " [[15  1  1  0  1  1  1]\n",
      " [ 1 13  4  1  0  1  0]\n",
      " [ 2  3 11  1  0  2  1]\n",
      " [ 1  8  4  5  0  1  1]\n",
      " [ 0  3  1  1 14  1  0]\n",
      " [ 2  0  1  0  0 16  1]\n",
      " [ 2  0  5  0  0  8  5]]\n",
      "Accuracy per Class: [0.75 0.65 0.55 0.25 0.7  0.8  0.25]\n",
      "Test accuracy:  0.5642857142857143\n"
     ]
    }
   ],
   "source": [
    "from sklearn.metrics import classification_report, confusion_matrix, roc_curve, roc_auc_score\n",
    "import matplotlib.pyplot as plt\n",
    "import numpy as np\n",
    "\n",
    "# Evaluate model\n",
    "test_loss, test_accuracy, all_predictions, all_labels = evaluate_model(model_inception, criterion, test_loader)\n",
    "\n",
    "# Compute classification report\n",
    "report = classification_report(all_labels, all_predictions)\n",
    "print(\"Classification Report:\\n\", report)\n",
    "\n",
    "# Compute confusion matrix\n",
    "conf_matrix = confusion_matrix(all_labels, all_predictions)\n",
    "print(\"Confusion Matrix:\\n\", conf_matrix)\n",
    "\n",
    "# Compute accuracy per class\n",
    "class_accuracy = conf_matrix.diagonal() / conf_matrix.sum(axis=1)\n",
    "print(\"Accuracy per Class:\", class_accuracy)\n",
    "print(\"Test accuracy: \", test_accuracy)"
   ]
  },
  {
   "cell_type": "markdown",
   "id": "ECVupa6vhlFZ",
   "metadata": {
    "id": "ECVupa6vhlFZ"
   },
   "source": [
    "#### 30 epochs"
   ]
  },
  {
   "cell_type": "code",
   "execution_count": 37,
   "id": "MyazaHvheJ9d",
   "metadata": {
    "colab": {
     "base_uri": "https://localhost:8080/"
    },
    "executionInfo": {
     "elapsed": 43250,
     "status": "ok",
     "timestamp": 1713264170723,
     "user": {
      "displayName": "kp op",
      "userId": "00101497225649972179"
     },
     "user_tz": -480
    },
    "id": "MyazaHvheJ9d",
    "outputId": "992e5aa2-7019-4499-b3a3-60601cecacd5"
   },
   "outputs": [
    {
     "name": "stdout",
     "output_type": "stream",
     "text": [
      "Classification Report:\n",
      "               precision    recall  f1-score   support\n",
      "\n",
      "           0       0.81      0.85      0.83        20\n",
      "           1       0.56      0.75      0.64        20\n",
      "           2       0.57      0.60      0.59        20\n",
      "           3       0.53      0.40      0.46        20\n",
      "           4       0.85      0.85      0.85        20\n",
      "           5       0.80      0.60      0.69        20\n",
      "           6       0.67      0.70      0.68        20\n",
      "\n",
      "    accuracy                           0.68       140\n",
      "   macro avg       0.68      0.68      0.68       140\n",
      "weighted avg       0.68      0.68      0.68       140\n",
      "\n",
      "Confusion Matrix:\n",
      " [[17  0  0  1  0  1  1]\n",
      " [ 0 15  1  1  0  0  3]\n",
      " [ 0  4 12  2  0  1  1]\n",
      " [ 2  8  1  8  0  1  0]\n",
      " [ 0  0  0  2 17  0  1]\n",
      " [ 1  0  2  1  3 12  1]\n",
      " [ 1  0  5  0  0  0 14]]\n",
      "Accuracy per Class: [0.85 0.75 0.6  0.4  0.85 0.6  0.7 ]\n",
      "Test accuracy:  0.6785714285714286\n"
     ]
    }
   ],
   "source": [
    "from sklearn.metrics import classification_report, confusion_matrix, roc_curve, roc_auc_score\n",
    "import matplotlib.pyplot as plt\n",
    "import numpy as np\n",
    "\n",
    "# Evaluate model\n",
    "test_loss, test_accuracy, all_predictions, all_labels = evaluate_model(model_inception, criterion, test_loader)\n",
    "\n",
    "# Compute classification report\n",
    "report = classification_report(all_labels, all_predictions)\n",
    "print(\"Classification Report:\\n\", report)\n",
    "\n",
    "# Compute confusion matrix\n",
    "conf_matrix = confusion_matrix(all_labels, all_predictions)\n",
    "print(\"Confusion Matrix:\\n\", conf_matrix)\n",
    "\n",
    "# Compute accuracy per class\n",
    "class_accuracy = conf_matrix.diagonal() / conf_matrix.sum(axis=1)\n",
    "print(\"Accuracy per Class:\", class_accuracy)\n",
    "print(\"Test accuracy: \", test_accuracy)"
   ]
  },
  {
   "cell_type": "code",
   "execution_count": null,
   "id": "ZmHU3Pba-EKh",
   "metadata": {
    "id": "ZmHU3Pba-EKh"
   },
   "outputs": [],
   "source": []
  }
 ],
 "metadata": {
  "accelerator": "GPU",
  "colab": {
   "gpuType": "T4",
   "provenance": []
  },
  "kernelspec": {
   "display_name": "Python 3 (ipykernel)",
   "language": "python",
   "name": "python3"
  },
  "language_info": {
   "codemirror_mode": {
    "name": "ipython",
    "version": 3
   },
   "file_extension": ".py",
   "mimetype": "text/x-python",
   "name": "python",
   "nbconvert_exporter": "python",
   "pygments_lexer": "ipython3",
   "version": "3.9.13"
  }
 },
 "nbformat": 4,
 "nbformat_minor": 5
}
