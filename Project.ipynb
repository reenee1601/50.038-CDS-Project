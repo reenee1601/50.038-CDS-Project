{
 "cells": [
  {
   "cell_type": "markdown",
   "id": "a75ada16",
   "metadata": {},
   "source": [
    "# Problem Statement "
   ]
  },
  {
   "cell_type": "markdown",
   "id": "5a1a7d5f",
   "metadata": {},
   "source": [
    "##### How might we design and develop a comprehensive predictive model that is capable of assessing skin cancer probabilities and identifying various types of skin cancer by integrating demographic factors such as age, gender, and potentially nationality?"
   ]
  },
  {
   "cell_type": "markdown",
   "id": "964a946d",
   "metadata": {},
   "source": [
    "## Data Acquisition "
   ]
  },
  {
   "cell_type": "markdown",
   "id": "dcdc428e",
   "metadata": {},
   "source": [
    "#### This Dataset is from the ISIC Challenge 2020\n"
   ]
  },
  {
   "cell_type": "code",
   "execution_count": 1,
   "id": "18618afa",
   "metadata": {},
   "outputs": [],
   "source": [
    "# Import necessary libraries\n",
    "import pandas as pd\n",
    "import matplotlib.pyplot as plt\n",
    "import seaborn as sns\n",
    "import warnings \n",
    "warnings.filterwarnings('ignore') "
   ]
  },
  {
   "cell_type": "markdown",
   "id": "dd36c09d",
   "metadata": {},
   "source": []
  },
  {
   "cell_type": "code",
   "execution_count": 3,
   "id": "5a9cb1da",
   "metadata": {},
   "outputs": [
    {
     "name": "stdout",
     "output_type": "stream",
     "text": [
      "<class 'pandas.core.frame.DataFrame'>\n",
      "RangeIndex: 33126 entries, 0 to 33125\n",
      "Data columns (total 9 columns):\n",
      " #   Column                         Non-Null Count  Dtype  \n",
      "---  ------                         --------------  -----  \n",
      " 0   image_name                     33126 non-null  object \n",
      " 1   patient_id                     33126 non-null  object \n",
      " 2   lesion_id                      33126 non-null  object \n",
      " 3   sex                            33061 non-null  object \n",
      " 4   age_approx                     33058 non-null  float64\n",
      " 5   anatom_site_general_challenge  32599 non-null  object \n",
      " 6   diagnosis                      33126 non-null  object \n",
      " 7   benign_malignant               33126 non-null  object \n",
      " 8   target                         33126 non-null  int64  \n",
      "dtypes: float64(1), int64(1), object(7)\n",
      "memory usage: 2.3+ MB\n",
      "None\n"
     ]
    }
   ],
   "source": [
    "# load dataset\n",
    "df = pd.read_csv('ISIC_2020_Training_GroundTruth_v2.csv')\n",
    "\n",
    "# print data types of variables\n",
    "print(df.info())"
   ]
  },
  {
   "cell_type": "code",
   "execution_count": 4,
   "id": "5b94bf80",
   "metadata": {},
   "outputs": [
    {
     "data": {
      "text/html": [
       "<div>\n",
       "<style scoped>\n",
       "    .dataframe tbody tr th:only-of-type {\n",
       "        vertical-align: middle;\n",
       "    }\n",
       "\n",
       "    .dataframe tbody tr th {\n",
       "        vertical-align: top;\n",
       "    }\n",
       "\n",
       "    .dataframe thead th {\n",
       "        text-align: right;\n",
       "    }\n",
       "</style>\n",
       "<table border=\"1\" class=\"dataframe\">\n",
       "  <thead>\n",
       "    <tr style=\"text-align: right;\">\n",
       "      <th></th>\n",
       "      <th>image_name</th>\n",
       "      <th>patient_id</th>\n",
       "      <th>lesion_id</th>\n",
       "      <th>sex</th>\n",
       "      <th>age_approx</th>\n",
       "      <th>anatom_site_general_challenge</th>\n",
       "      <th>diagnosis</th>\n",
       "      <th>benign_malignant</th>\n",
       "      <th>target</th>\n",
       "    </tr>\n",
       "  </thead>\n",
       "  <tbody>\n",
       "    <tr>\n",
       "      <th>0</th>\n",
       "      <td>ISIC_2637011</td>\n",
       "      <td>IP_7279968</td>\n",
       "      <td>IL_7972535</td>\n",
       "      <td>male</td>\n",
       "      <td>45.0</td>\n",
       "      <td>head/neck</td>\n",
       "      <td>unknown</td>\n",
       "      <td>benign</td>\n",
       "      <td>0</td>\n",
       "    </tr>\n",
       "    <tr>\n",
       "      <th>1</th>\n",
       "      <td>ISIC_0015719</td>\n",
       "      <td>IP_3075186</td>\n",
       "      <td>IL_4649854</td>\n",
       "      <td>female</td>\n",
       "      <td>45.0</td>\n",
       "      <td>upper extremity</td>\n",
       "      <td>unknown</td>\n",
       "      <td>benign</td>\n",
       "      <td>0</td>\n",
       "    </tr>\n",
       "    <tr>\n",
       "      <th>2</th>\n",
       "      <td>ISIC_0052212</td>\n",
       "      <td>IP_2842074</td>\n",
       "      <td>IL_9087444</td>\n",
       "      <td>female</td>\n",
       "      <td>50.0</td>\n",
       "      <td>lower extremity</td>\n",
       "      <td>nevus</td>\n",
       "      <td>benign</td>\n",
       "      <td>0</td>\n",
       "    </tr>\n",
       "    <tr>\n",
       "      <th>3</th>\n",
       "      <td>ISIC_0068279</td>\n",
       "      <td>IP_6890425</td>\n",
       "      <td>IL_4255399</td>\n",
       "      <td>female</td>\n",
       "      <td>45.0</td>\n",
       "      <td>head/neck</td>\n",
       "      <td>unknown</td>\n",
       "      <td>benign</td>\n",
       "      <td>0</td>\n",
       "    </tr>\n",
       "    <tr>\n",
       "      <th>4</th>\n",
       "      <td>ISIC_0074268</td>\n",
       "      <td>IP_8723313</td>\n",
       "      <td>IL_6898037</td>\n",
       "      <td>female</td>\n",
       "      <td>55.0</td>\n",
       "      <td>upper extremity</td>\n",
       "      <td>unknown</td>\n",
       "      <td>benign</td>\n",
       "      <td>0</td>\n",
       "    </tr>\n",
       "  </tbody>\n",
       "</table>\n",
       "</div>"
      ],
      "text/plain": [
       "     image_name  patient_id   lesion_id     sex  age_approx  \\\n",
       "0  ISIC_2637011  IP_7279968  IL_7972535    male        45.0   \n",
       "1  ISIC_0015719  IP_3075186  IL_4649854  female        45.0   \n",
       "2  ISIC_0052212  IP_2842074  IL_9087444  female        50.0   \n",
       "3  ISIC_0068279  IP_6890425  IL_4255399  female        45.0   \n",
       "4  ISIC_0074268  IP_8723313  IL_6898037  female        55.0   \n",
       "\n",
       "  anatom_site_general_challenge diagnosis benign_malignant  target  \n",
       "0                     head/neck   unknown           benign       0  \n",
       "1               upper extremity   unknown           benign       0  \n",
       "2               lower extremity     nevus           benign       0  \n",
       "3                     head/neck   unknown           benign       0  \n",
       "4               upper extremity   unknown           benign       0  "
      ]
     },
     "execution_count": 4,
     "metadata": {},
     "output_type": "execute_result"
    }
   ],
   "source": [
    "# Display first 5 data rows\n",
    "df.head()"
   ]
  },
  {
   "cell_type": "markdown",
   "id": "365a1245",
   "metadata": {},
   "source": []
  },
  {
   "cell_type": "code",
   "execution_count": 5,
   "id": "6c8544ca",
   "metadata": {},
   "outputs": [
    {
     "name": "stdout",
     "output_type": "stream",
     "text": [
      "         age_approx        target\n",
      "count  33058.000000  33126.000000\n",
      "mean      48.870016      0.017630\n",
      "std       14.380360      0.131603\n",
      "min        0.000000      0.000000\n",
      "25%       40.000000      0.000000\n",
      "50%       50.000000      0.000000\n",
      "75%       60.000000      0.000000\n",
      "max       90.000000      1.000000\n"
     ]
    }
   ],
   "source": [
    "# Display summary statistics\n",
    "print(df.describe())"
   ]
  },
  {
   "cell_type": "code",
   "execution_count": 6,
   "id": "dfe013a8",
   "metadata": {},
   "outputs": [
    {
     "name": "stdout",
     "output_type": "stream",
     "text": [
      "image_name                         0\n",
      "patient_id                         0\n",
      "lesion_id                          0\n",
      "sex                               65\n",
      "age_approx                        68\n",
      "anatom_site_general_challenge    527\n",
      "diagnosis                          0\n",
      "benign_malignant                   0\n",
      "target                             0\n",
      "dtype: int64\n"
     ]
    }
   ],
   "source": [
    "# Check for missing values\n",
    "print(df.isnull().sum())"
   ]
  },
  {
   "cell_type": "code",
   "execution_count": 7,
   "id": "c7e14a6a",
   "metadata": {},
   "outputs": [],
   "source": [
    "# Remove rows with missing values\n",
    "df_cleaned = df.dropna()"
   ]
  },
  {
   "cell_type": "markdown",
   "id": "b58791bc",
   "metadata": {},
   "source": [
    "## Univariate Analysis - Exploration of Variables one by one    \n",
    "-Visualisation of Categorical variables - understand the distribution of each variable.\n",
    "\n",
    "-Visualisation of Continuous variables - understand the central tendency and spread of the variable."
   ]
  },
  {
   "cell_type": "code",
   "execution_count": 9,
   "id": "6da3a67c",
   "metadata": {},
   "outputs": [
    {
     "data": {
      "image/png": "[encoded data removed]",
      "text/plain": [
       "<Figure size 1296x432 with 1 Axes>"
      ]
     },
     "metadata": {
      "needs_background": "light"
     },
     "output_type": "display_data"
    }
   ],
   "source": [
    "# Countplot for age - Categorical variable\n",
    "plt.figure(figsize=(18, 6)) \n",
    "\n",
    "plt.subplot(1, 2, 1)\n",
    "sns.countplot(x=df['age_approx'], palette='viridis')\n",
    "plt.title('Distribution of age')\n",
    "plt.xlabel('age')\n",
    "plt.ylabel('Count')\n",
    "\n",
    "# Add some space between subplots\n",
    "plt.tight_layout()\n",
    "\n",
    "plt.show()"
   ]
  },
  {
   "cell_type": "code",
   "execution_count": 11,
   "id": "f6be2119",
   "metadata": {},
   "outputs": [
    {
     "data": {
      "image/png": "[encoded data removed]",
      "text/plain": [
       "<Figure size 432x288 with 1 Axes>"
      ]
     },
     "metadata": {
      "needs_background": "light"
     },
     "output_type": "display_data"
    }
   ],
   "source": [
    "import seaborn as sns\n",
    "import matplotlib.pyplot as plt\n",
    "\n",
    "# Assuming your DataFrame is named 'df'\n",
    "sns.countplot(x='benign_malignant', data=df)\n",
    "plt.title('Distribution of Benign and Malignant Cases')\n",
    "plt.show()\n"
   ]
  }
 ],
 "metadata": {
  "kernelspec": {
   "display_name": "Python 3 (ipykernel)",
   "language": "python",
   "name": "python3"
  },
  "language_info": {
   "codemirror_mode": {
    "name": "ipython",
    "version": 3
   },
   "file_extension": ".py",
   "mimetype": "text/x-python",
   "name": "python",
   "nbconvert_exporter": "python",
   "pygments_lexer": "ipython3",
   "version": "3.9.12"
  }
 },
 "nbformat": 4,
 "nbformat_minor": 5
}
